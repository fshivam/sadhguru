{
  "nbformat": 4,
  "nbformat_minor": 0,
  "metadata": {
    "colab": {
      "name": "Semantic Search.ipynb ",
      "provenance": [],
      "collapsed_sections": [],
      "toc_visible": true,
      "authorship_tag": "ABX9TyOh6iXxhTA8DZBzvJc13Rse",
      "include_colab_link": true
    },
    "kernelspec": {
      "name": "python3",
      "display_name": "Python 3"
    },
    "widgets": {
      "application/vnd.jupyter.widget-state+json": {
        "a58f6214ba5c4eeab554a61d83dc38e6": {
          "model_module": "@jupyter-widgets/controls",
          "model_name": "HBoxModel",
          "state": {
            "_view_name": "HBoxView",
            "_dom_classes": [],
            "_model_name": "HBoxModel",
            "_view_module": "@jupyter-widgets/controls",
            "_model_module_version": "1.5.0",
            "_view_count": null,
            "_view_module_version": "1.5.0",
            "box_style": "",
            "layout": "IPY_MODEL_c81c032792a744198b4917df28d7dc5a",
            "_model_module": "@jupyter-widgets/controls",
            "children": [
              "IPY_MODEL_be9e24ab1feb4adf96eda5e2caf37cac",
              "IPY_MODEL_b78e514f28da41eda2407663daeade6b"
            ]
          }
        },
        "c81c032792a744198b4917df28d7dc5a": {
          "model_module": "@jupyter-widgets/base",
          "model_name": "LayoutModel",
          "state": {
            "_view_name": "LayoutView",
            "grid_template_rows": null,
            "right": null,
            "justify_content": null,
            "_view_module": "@jupyter-widgets/base",
            "overflow": null,
            "_model_module_version": "1.2.0",
            "_view_count": null,
            "flex_flow": null,
            "width": null,
            "min_width": null,
            "border": null,
            "align_items": null,
            "bottom": null,
            "_model_module": "@jupyter-widgets/base",
            "top": null,
            "grid_column": null,
            "overflow_y": null,
            "overflow_x": null,
            "grid_auto_flow": null,
            "grid_area": null,
            "grid_template_columns": null,
            "flex": null,
            "_model_name": "LayoutModel",
            "justify_items": null,
            "grid_row": null,
            "max_height": null,
            "align_content": null,
            "visibility": null,
            "align_self": null,
            "height": null,
            "min_height": null,
            "padding": null,
            "grid_auto_rows": null,
            "grid_gap": null,
            "max_width": null,
            "order": null,
            "_view_module_version": "1.2.0",
            "grid_template_areas": null,
            "object_position": null,
            "object_fit": null,
            "grid_auto_columns": null,
            "margin": null,
            "display": null,
            "left": null
          }
        },
        "be9e24ab1feb4adf96eda5e2caf37cac": {
          "model_module": "@jupyter-widgets/controls",
          "model_name": "FloatProgressModel",
          "state": {
            "_view_name": "ProgressView",
            "style": "IPY_MODEL_e20860ad652541b9877da3fadc6f5f50",
            "_dom_classes": [],
            "description": "Downloading: 100%",
            "_model_name": "FloatProgressModel",
            "bar_style": "success",
            "max": 730,
            "_view_module": "@jupyter-widgets/controls",
            "_model_module_version": "1.5.0",
            "value": 730,
            "_view_count": null,
            "_view_module_version": "1.5.0",
            "orientation": "horizontal",
            "min": 0,
            "description_tooltip": null,
            "_model_module": "@jupyter-widgets/controls",
            "layout": "IPY_MODEL_dbbaa7fc987949a28490d39bc7d08f75"
          }
        },
        "b78e514f28da41eda2407663daeade6b": {
          "model_module": "@jupyter-widgets/controls",
          "model_name": "HTMLModel",
          "state": {
            "_view_name": "HTMLView",
            "style": "IPY_MODEL_33df6bb4cbf148ee81029e4a9206088c",
            "_dom_classes": [],
            "description": "",
            "_model_name": "HTMLModel",
            "placeholder": "​",
            "_view_module": "@jupyter-widgets/controls",
            "_model_module_version": "1.5.0",
            "value": " 730/730 [00:00&lt;00:00, 2.71kB/s]",
            "_view_count": null,
            "_view_module_version": "1.5.0",
            "description_tooltip": null,
            "_model_module": "@jupyter-widgets/controls",
            "layout": "IPY_MODEL_11768c8c15744c21869a58d38835d1fc"
          }
        },
        "e20860ad652541b9877da3fadc6f5f50": {
          "model_module": "@jupyter-widgets/controls",
          "model_name": "ProgressStyleModel",
          "state": {
            "_view_name": "StyleView",
            "_model_name": "ProgressStyleModel",
            "description_width": "initial",
            "_view_module": "@jupyter-widgets/base",
            "_model_module_version": "1.5.0",
            "_view_count": null,
            "_view_module_version": "1.2.0",
            "bar_color": null,
            "_model_module": "@jupyter-widgets/controls"
          }
        },
        "dbbaa7fc987949a28490d39bc7d08f75": {
          "model_module": "@jupyter-widgets/base",
          "model_name": "LayoutModel",
          "state": {
            "_view_name": "LayoutView",
            "grid_template_rows": null,
            "right": null,
            "justify_content": null,
            "_view_module": "@jupyter-widgets/base",
            "overflow": null,
            "_model_module_version": "1.2.0",
            "_view_count": null,
            "flex_flow": null,
            "width": null,
            "min_width": null,
            "border": null,
            "align_items": null,
            "bottom": null,
            "_model_module": "@jupyter-widgets/base",
            "top": null,
            "grid_column": null,
            "overflow_y": null,
            "overflow_x": null,
            "grid_auto_flow": null,
            "grid_area": null,
            "grid_template_columns": null,
            "flex": null,
            "_model_name": "LayoutModel",
            "justify_items": null,
            "grid_row": null,
            "max_height": null,
            "align_content": null,
            "visibility": null,
            "align_self": null,
            "height": null,
            "min_height": null,
            "padding": null,
            "grid_auto_rows": null,
            "grid_gap": null,
            "max_width": null,
            "order": null,
            "_view_module_version": "1.2.0",
            "grid_template_areas": null,
            "object_position": null,
            "object_fit": null,
            "grid_auto_columns": null,
            "margin": null,
            "display": null,
            "left": null
          }
        },
        "33df6bb4cbf148ee81029e4a9206088c": {
          "model_module": "@jupyter-widgets/controls",
          "model_name": "DescriptionStyleModel",
          "state": {
            "_view_name": "StyleView",
            "_model_name": "DescriptionStyleModel",
            "description_width": "",
            "_view_module": "@jupyter-widgets/base",
            "_model_module_version": "1.5.0",
            "_view_count": null,
            "_view_module_version": "1.2.0",
            "_model_module": "@jupyter-widgets/controls"
          }
        },
        "11768c8c15744c21869a58d38835d1fc": {
          "model_module": "@jupyter-widgets/base",
          "model_name": "LayoutModel",
          "state": {
            "_view_name": "LayoutView",
            "grid_template_rows": null,
            "right": null,
            "justify_content": null,
            "_view_module": "@jupyter-widgets/base",
            "overflow": null,
            "_model_module_version": "1.2.0",
            "_view_count": null,
            "flex_flow": null,
            "width": null,
            "min_width": null,
            "border": null,
            "align_items": null,
            "bottom": null,
            "_model_module": "@jupyter-widgets/base",
            "top": null,
            "grid_column": null,
            "overflow_y": null,
            "overflow_x": null,
            "grid_auto_flow": null,
            "grid_area": null,
            "grid_template_columns": null,
            "flex": null,
            "_model_name": "LayoutModel",
            "justify_items": null,
            "grid_row": null,
            "max_height": null,
            "align_content": null,
            "visibility": null,
            "align_self": null,
            "height": null,
            "min_height": null,
            "padding": null,
            "grid_auto_rows": null,
            "grid_gap": null,
            "max_width": null,
            "order": null,
            "_view_module_version": "1.2.0",
            "grid_template_areas": null,
            "object_position": null,
            "object_fit": null,
            "grid_auto_columns": null,
            "margin": null,
            "display": null,
            "left": null
          }
        },
        "1016c40c78d74b4fac41448d0a336602": {
          "model_module": "@jupyter-widgets/controls",
          "model_name": "HBoxModel",
          "state": {
            "_view_name": "HBoxView",
            "_dom_classes": [],
            "_model_name": "HBoxModel",
            "_view_module": "@jupyter-widgets/controls",
            "_model_module_version": "1.5.0",
            "_view_count": null,
            "_view_module_version": "1.5.0",
            "box_style": "",
            "layout": "IPY_MODEL_9e1ec1fd089b40b4b704f00fbaf13287",
            "_model_module": "@jupyter-widgets/controls",
            "children": [
              "IPY_MODEL_735321f414964587be5507f7c13a9014",
              "IPY_MODEL_cd8e2e7ca59b422199fc2d30517333bf"
            ]
          }
        },
        "9e1ec1fd089b40b4b704f00fbaf13287": {
          "model_module": "@jupyter-widgets/base",
          "model_name": "LayoutModel",
          "state": {
            "_view_name": "LayoutView",
            "grid_template_rows": null,
            "right": null,
            "justify_content": null,
            "_view_module": "@jupyter-widgets/base",
            "overflow": null,
            "_model_module_version": "1.2.0",
            "_view_count": null,
            "flex_flow": null,
            "width": null,
            "min_width": null,
            "border": null,
            "align_items": null,
            "bottom": null,
            "_model_module": "@jupyter-widgets/base",
            "top": null,
            "grid_column": null,
            "overflow_y": null,
            "overflow_x": null,
            "grid_auto_flow": null,
            "grid_area": null,
            "grid_template_columns": null,
            "flex": null,
            "_model_name": "LayoutModel",
            "justify_items": null,
            "grid_row": null,
            "max_height": null,
            "align_content": null,
            "visibility": null,
            "align_self": null,
            "height": null,
            "min_height": null,
            "padding": null,
            "grid_auto_rows": null,
            "grid_gap": null,
            "max_width": null,
            "order": null,
            "_view_module_version": "1.2.0",
            "grid_template_areas": null,
            "object_position": null,
            "object_fit": null,
            "grid_auto_columns": null,
            "margin": null,
            "display": null,
            "left": null
          }
        },
        "735321f414964587be5507f7c13a9014": {
          "model_module": "@jupyter-widgets/controls",
          "model_name": "FloatProgressModel",
          "state": {
            "_view_name": "ProgressView",
            "style": "IPY_MODEL_ef3cda2dacf849ceba99a450b39dd5e6",
            "_dom_classes": [],
            "description": "Downloading: 100%",
            "_model_name": "FloatProgressModel",
            "bar_style": "success",
            "max": 438022601,
            "_view_module": "@jupyter-widgets/controls",
            "_model_module_version": "1.5.0",
            "value": 438022601,
            "_view_count": null,
            "_view_module_version": "1.5.0",
            "orientation": "horizontal",
            "min": 0,
            "description_tooltip": null,
            "_model_module": "@jupyter-widgets/controls",
            "layout": "IPY_MODEL_9be3f9fd7b8343c4974442203f3bc26b"
          }
        },
        "cd8e2e7ca59b422199fc2d30517333bf": {
          "model_module": "@jupyter-widgets/controls",
          "model_name": "HTMLModel",
          "state": {
            "_view_name": "HTMLView",
            "style": "IPY_MODEL_4dd1a6acd1d54fb38c4949a8a8bd9c04",
            "_dom_classes": [],
            "description": "",
            "_model_name": "HTMLModel",
            "placeholder": "​",
            "_view_module": "@jupyter-widgets/controls",
            "_model_module_version": "1.5.0",
            "value": " 438M/438M [00:08&lt;00:00, 48.9MB/s]",
            "_view_count": null,
            "_view_module_version": "1.5.0",
            "description_tooltip": null,
            "_model_module": "@jupyter-widgets/controls",
            "layout": "IPY_MODEL_410aac7642a74bf5a98059c692109516"
          }
        },
        "ef3cda2dacf849ceba99a450b39dd5e6": {
          "model_module": "@jupyter-widgets/controls",
          "model_name": "ProgressStyleModel",
          "state": {
            "_view_name": "StyleView",
            "_model_name": "ProgressStyleModel",
            "description_width": "initial",
            "_view_module": "@jupyter-widgets/base",
            "_model_module_version": "1.5.0",
            "_view_count": null,
            "_view_module_version": "1.2.0",
            "bar_color": null,
            "_model_module": "@jupyter-widgets/controls"
          }
        },
        "9be3f9fd7b8343c4974442203f3bc26b": {
          "model_module": "@jupyter-widgets/base",
          "model_name": "LayoutModel",
          "state": {
            "_view_name": "LayoutView",
            "grid_template_rows": null,
            "right": null,
            "justify_content": null,
            "_view_module": "@jupyter-widgets/base",
            "overflow": null,
            "_model_module_version": "1.2.0",
            "_view_count": null,
            "flex_flow": null,
            "width": null,
            "min_width": null,
            "border": null,
            "align_items": null,
            "bottom": null,
            "_model_module": "@jupyter-widgets/base",
            "top": null,
            "grid_column": null,
            "overflow_y": null,
            "overflow_x": null,
            "grid_auto_flow": null,
            "grid_area": null,
            "grid_template_columns": null,
            "flex": null,
            "_model_name": "LayoutModel",
            "justify_items": null,
            "grid_row": null,
            "max_height": null,
            "align_content": null,
            "visibility": null,
            "align_self": null,
            "height": null,
            "min_height": null,
            "padding": null,
            "grid_auto_rows": null,
            "grid_gap": null,
            "max_width": null,
            "order": null,
            "_view_module_version": "1.2.0",
            "grid_template_areas": null,
            "object_position": null,
            "object_fit": null,
            "grid_auto_columns": null,
            "margin": null,
            "display": null,
            "left": null
          }
        },
        "4dd1a6acd1d54fb38c4949a8a8bd9c04": {
          "model_module": "@jupyter-widgets/controls",
          "model_name": "DescriptionStyleModel",
          "state": {
            "_view_name": "StyleView",
            "_model_name": "DescriptionStyleModel",
            "description_width": "",
            "_view_module": "@jupyter-widgets/base",
            "_model_module_version": "1.5.0",
            "_view_count": null,
            "_view_module_version": "1.2.0",
            "_model_module": "@jupyter-widgets/controls"
          }
        },
        "410aac7642a74bf5a98059c692109516": {
          "model_module": "@jupyter-widgets/base",
          "model_name": "LayoutModel",
          "state": {
            "_view_name": "LayoutView",
            "grid_template_rows": null,
            "right": null,
            "justify_content": null,
            "_view_module": "@jupyter-widgets/base",
            "overflow": null,
            "_model_module_version": "1.2.0",
            "_view_count": null,
            "flex_flow": null,
            "width": null,
            "min_width": null,
            "border": null,
            "align_items": null,
            "bottom": null,
            "_model_module": "@jupyter-widgets/base",
            "top": null,
            "grid_column": null,
            "overflow_y": null,
            "overflow_x": null,
            "grid_auto_flow": null,
            "grid_area": null,
            "grid_template_columns": null,
            "flex": null,
            "_model_name": "LayoutModel",
            "justify_items": null,
            "grid_row": null,
            "max_height": null,
            "align_content": null,
            "visibility": null,
            "align_self": null,
            "height": null,
            "min_height": null,
            "padding": null,
            "grid_auto_rows": null,
            "grid_gap": null,
            "max_width": null,
            "order": null,
            "_view_module_version": "1.2.0",
            "grid_template_areas": null,
            "object_position": null,
            "object_fit": null,
            "grid_auto_columns": null,
            "margin": null,
            "display": null,
            "left": null
          }
        },
        "b3aac6acc492415689a57ceebb700a18": {
          "model_module": "@jupyter-widgets/controls",
          "model_name": "HBoxModel",
          "state": {
            "_view_name": "HBoxView",
            "_dom_classes": [],
            "_model_name": "HBoxModel",
            "_view_module": "@jupyter-widgets/controls",
            "_model_module_version": "1.5.0",
            "_view_count": null,
            "_view_module_version": "1.5.0",
            "box_style": "",
            "layout": "IPY_MODEL_7be2cacf0379444186d9020c85294394",
            "_model_module": "@jupyter-widgets/controls",
            "children": [
              "IPY_MODEL_bf6f8784b5074b21beedbbdbe4db9226",
              "IPY_MODEL_32ca4a653ad948658b9bd189eba994da"
            ]
          }
        },
        "7be2cacf0379444186d9020c85294394": {
          "model_module": "@jupyter-widgets/base",
          "model_name": "LayoutModel",
          "state": {
            "_view_name": "LayoutView",
            "grid_template_rows": null,
            "right": null,
            "justify_content": null,
            "_view_module": "@jupyter-widgets/base",
            "overflow": null,
            "_model_module_version": "1.2.0",
            "_view_count": null,
            "flex_flow": null,
            "width": null,
            "min_width": null,
            "border": null,
            "align_items": null,
            "bottom": null,
            "_model_module": "@jupyter-widgets/base",
            "top": null,
            "grid_column": null,
            "overflow_y": null,
            "overflow_x": null,
            "grid_auto_flow": null,
            "grid_area": null,
            "grid_template_columns": null,
            "flex": null,
            "_model_name": "LayoutModel",
            "justify_items": null,
            "grid_row": null,
            "max_height": null,
            "align_content": null,
            "visibility": null,
            "align_self": null,
            "height": null,
            "min_height": null,
            "padding": null,
            "grid_auto_rows": null,
            "grid_gap": null,
            "max_width": null,
            "order": null,
            "_view_module_version": "1.2.0",
            "grid_template_areas": null,
            "object_position": null,
            "object_fit": null,
            "grid_auto_columns": null,
            "margin": null,
            "display": null,
            "left": null
          }
        },
        "bf6f8784b5074b21beedbbdbe4db9226": {
          "model_module": "@jupyter-widgets/controls",
          "model_name": "FloatProgressModel",
          "state": {
            "_view_name": "ProgressView",
            "style": "IPY_MODEL_c01acb28243a4e4e808234351a5cbc33",
            "_dom_classes": [],
            "description": "Downloading: 100%",
            "_model_name": "FloatProgressModel",
            "bar_style": "success",
            "max": 231508,
            "_view_module": "@jupyter-widgets/controls",
            "_model_module_version": "1.5.0",
            "value": 231508,
            "_view_count": null,
            "_view_module_version": "1.5.0",
            "orientation": "horizontal",
            "min": 0,
            "description_tooltip": null,
            "_model_module": "@jupyter-widgets/controls",
            "layout": "IPY_MODEL_8f79a7b0f9d849859c30bf2af8e18624"
          }
        },
        "32ca4a653ad948658b9bd189eba994da": {
          "model_module": "@jupyter-widgets/controls",
          "model_name": "HTMLModel",
          "state": {
            "_view_name": "HTMLView",
            "style": "IPY_MODEL_a0eec42233e342a488f1c4b1d7f23f7d",
            "_dom_classes": [],
            "description": "",
            "_model_name": "HTMLModel",
            "placeholder": "​",
            "_view_module": "@jupyter-widgets/controls",
            "_model_module_version": "1.5.0",
            "value": " 232k/232k [00:00&lt;00:00, 1.23MB/s]",
            "_view_count": null,
            "_view_module_version": "1.5.0",
            "description_tooltip": null,
            "_model_module": "@jupyter-widgets/controls",
            "layout": "IPY_MODEL_c42f42d156c6454ba4bd8dab3c7374e4"
          }
        },
        "c01acb28243a4e4e808234351a5cbc33": {
          "model_module": "@jupyter-widgets/controls",
          "model_name": "ProgressStyleModel",
          "state": {
            "_view_name": "StyleView",
            "_model_name": "ProgressStyleModel",
            "description_width": "initial",
            "_view_module": "@jupyter-widgets/base",
            "_model_module_version": "1.5.0",
            "_view_count": null,
            "_view_module_version": "1.2.0",
            "bar_color": null,
            "_model_module": "@jupyter-widgets/controls"
          }
        },
        "8f79a7b0f9d849859c30bf2af8e18624": {
          "model_module": "@jupyter-widgets/base",
          "model_name": "LayoutModel",
          "state": {
            "_view_name": "LayoutView",
            "grid_template_rows": null,
            "right": null,
            "justify_content": null,
            "_view_module": "@jupyter-widgets/base",
            "overflow": null,
            "_model_module_version": "1.2.0",
            "_view_count": null,
            "flex_flow": null,
            "width": null,
            "min_width": null,
            "border": null,
            "align_items": null,
            "bottom": null,
            "_model_module": "@jupyter-widgets/base",
            "top": null,
            "grid_column": null,
            "overflow_y": null,
            "overflow_x": null,
            "grid_auto_flow": null,
            "grid_area": null,
            "grid_template_columns": null,
            "flex": null,
            "_model_name": "LayoutModel",
            "justify_items": null,
            "grid_row": null,
            "max_height": null,
            "align_content": null,
            "visibility": null,
            "align_self": null,
            "height": null,
            "min_height": null,
            "padding": null,
            "grid_auto_rows": null,
            "grid_gap": null,
            "max_width": null,
            "order": null,
            "_view_module_version": "1.2.0",
            "grid_template_areas": null,
            "object_position": null,
            "object_fit": null,
            "grid_auto_columns": null,
            "margin": null,
            "display": null,
            "left": null
          }
        },
        "a0eec42233e342a488f1c4b1d7f23f7d": {
          "model_module": "@jupyter-widgets/controls",
          "model_name": "DescriptionStyleModel",
          "state": {
            "_view_name": "StyleView",
            "_model_name": "DescriptionStyleModel",
            "description_width": "",
            "_view_module": "@jupyter-widgets/base",
            "_model_module_version": "1.5.0",
            "_view_count": null,
            "_view_module_version": "1.2.0",
            "_model_module": "@jupyter-widgets/controls"
          }
        },
        "c42f42d156c6454ba4bd8dab3c7374e4": {
          "model_module": "@jupyter-widgets/base",
          "model_name": "LayoutModel",
          "state": {
            "_view_name": "LayoutView",
            "grid_template_rows": null,
            "right": null,
            "justify_content": null,
            "_view_module": "@jupyter-widgets/base",
            "overflow": null,
            "_model_module_version": "1.2.0",
            "_view_count": null,
            "flex_flow": null,
            "width": null,
            "min_width": null,
            "border": null,
            "align_items": null,
            "bottom": null,
            "_model_module": "@jupyter-widgets/base",
            "top": null,
            "grid_column": null,
            "overflow_y": null,
            "overflow_x": null,
            "grid_auto_flow": null,
            "grid_area": null,
            "grid_template_columns": null,
            "flex": null,
            "_model_name": "LayoutModel",
            "justify_items": null,
            "grid_row": null,
            "max_height": null,
            "align_content": null,
            "visibility": null,
            "align_self": null,
            "height": null,
            "min_height": null,
            "padding": null,
            "grid_auto_rows": null,
            "grid_gap": null,
            "max_width": null,
            "order": null,
            "_view_module_version": "1.2.0",
            "grid_template_areas": null,
            "object_position": null,
            "object_fit": null,
            "grid_auto_columns": null,
            "margin": null,
            "display": null,
            "left": null
          }
        },
        "fab7d066683348a1a47b9ce5fb46c10b": {
          "model_module": "@jupyter-widgets/controls",
          "model_name": "HBoxModel",
          "state": {
            "_view_name": "HBoxView",
            "_dom_classes": [],
            "_model_name": "HBoxModel",
            "_view_module": "@jupyter-widgets/controls",
            "_model_module_version": "1.5.0",
            "_view_count": null,
            "_view_module_version": "1.5.0",
            "box_style": "",
            "layout": "IPY_MODEL_15dd7b898a634c379435b85bc803f3c6",
            "_model_module": "@jupyter-widgets/controls",
            "children": [
              "IPY_MODEL_240c975054f74af0bd20e9236cfba2a8",
              "IPY_MODEL_19d93e0ee68a4fd79f89528b43cfbea4"
            ]
          }
        },
        "15dd7b898a634c379435b85bc803f3c6": {
          "model_module": "@jupyter-widgets/base",
          "model_name": "LayoutModel",
          "state": {
            "_view_name": "LayoutView",
            "grid_template_rows": null,
            "right": null,
            "justify_content": null,
            "_view_module": "@jupyter-widgets/base",
            "overflow": null,
            "_model_module_version": "1.2.0",
            "_view_count": null,
            "flex_flow": null,
            "width": null,
            "min_width": null,
            "border": null,
            "align_items": null,
            "bottom": null,
            "_model_module": "@jupyter-widgets/base",
            "top": null,
            "grid_column": null,
            "overflow_y": null,
            "overflow_x": null,
            "grid_auto_flow": null,
            "grid_area": null,
            "grid_template_columns": null,
            "flex": null,
            "_model_name": "LayoutModel",
            "justify_items": null,
            "grid_row": null,
            "max_height": null,
            "align_content": null,
            "visibility": null,
            "align_self": null,
            "height": null,
            "min_height": null,
            "padding": null,
            "grid_auto_rows": null,
            "grid_gap": null,
            "max_width": null,
            "order": null,
            "_view_module_version": "1.2.0",
            "grid_template_areas": null,
            "object_position": null,
            "object_fit": null,
            "grid_auto_columns": null,
            "margin": null,
            "display": null,
            "left": null
          }
        },
        "240c975054f74af0bd20e9236cfba2a8": {
          "model_module": "@jupyter-widgets/controls",
          "model_name": "FloatProgressModel",
          "state": {
            "_view_name": "ProgressView",
            "style": "IPY_MODEL_b6fe02d59c6a43b9b7398703382e177d",
            "_dom_classes": [],
            "description": "Downloading: 100%",
            "_model_name": "FloatProgressModel",
            "bar_style": "success",
            "max": 112,
            "_view_module": "@jupyter-widgets/controls",
            "_model_module_version": "1.5.0",
            "value": 112,
            "_view_count": null,
            "_view_module_version": "1.5.0",
            "orientation": "horizontal",
            "min": 0,
            "description_tooltip": null,
            "_model_module": "@jupyter-widgets/controls",
            "layout": "IPY_MODEL_d8d25349d42e4f009bc8b126fa8b62d6"
          }
        },
        "19d93e0ee68a4fd79f89528b43cfbea4": {
          "model_module": "@jupyter-widgets/controls",
          "model_name": "HTMLModel",
          "state": {
            "_view_name": "HTMLView",
            "style": "IPY_MODEL_0ce9de9d64c543f2a0fe77384ec7d8e4",
            "_dom_classes": [],
            "description": "",
            "_model_name": "HTMLModel",
            "placeholder": "​",
            "_view_module": "@jupyter-widgets/controls",
            "_model_module_version": "1.5.0",
            "value": " 112/112 [00:00&lt;00:00, 1.50kB/s]",
            "_view_count": null,
            "_view_module_version": "1.5.0",
            "description_tooltip": null,
            "_model_module": "@jupyter-widgets/controls",
            "layout": "IPY_MODEL_69db6abaabfb4bd3a1a2b957e82ee09a"
          }
        },
        "b6fe02d59c6a43b9b7398703382e177d": {
          "model_module": "@jupyter-widgets/controls",
          "model_name": "ProgressStyleModel",
          "state": {
            "_view_name": "StyleView",
            "_model_name": "ProgressStyleModel",
            "description_width": "initial",
            "_view_module": "@jupyter-widgets/base",
            "_model_module_version": "1.5.0",
            "_view_count": null,
            "_view_module_version": "1.2.0",
            "bar_color": null,
            "_model_module": "@jupyter-widgets/controls"
          }
        },
        "d8d25349d42e4f009bc8b126fa8b62d6": {
          "model_module": "@jupyter-widgets/base",
          "model_name": "LayoutModel",
          "state": {
            "_view_name": "LayoutView",
            "grid_template_rows": null,
            "right": null,
            "justify_content": null,
            "_view_module": "@jupyter-widgets/base",
            "overflow": null,
            "_model_module_version": "1.2.0",
            "_view_count": null,
            "flex_flow": null,
            "width": null,
            "min_width": null,
            "border": null,
            "align_items": null,
            "bottom": null,
            "_model_module": "@jupyter-widgets/base",
            "top": null,
            "grid_column": null,
            "overflow_y": null,
            "overflow_x": null,
            "grid_auto_flow": null,
            "grid_area": null,
            "grid_template_columns": null,
            "flex": null,
            "_model_name": "LayoutModel",
            "justify_items": null,
            "grid_row": null,
            "max_height": null,
            "align_content": null,
            "visibility": null,
            "align_self": null,
            "height": null,
            "min_height": null,
            "padding": null,
            "grid_auto_rows": null,
            "grid_gap": null,
            "max_width": null,
            "order": null,
            "_view_module_version": "1.2.0",
            "grid_template_areas": null,
            "object_position": null,
            "object_fit": null,
            "grid_auto_columns": null,
            "margin": null,
            "display": null,
            "left": null
          }
        },
        "0ce9de9d64c543f2a0fe77384ec7d8e4": {
          "model_module": "@jupyter-widgets/controls",
          "model_name": "DescriptionStyleModel",
          "state": {
            "_view_name": "StyleView",
            "_model_name": "DescriptionStyleModel",
            "description_width": "",
            "_view_module": "@jupyter-widgets/base",
            "_model_module_version": "1.5.0",
            "_view_count": null,
            "_view_module_version": "1.2.0",
            "_model_module": "@jupyter-widgets/controls"
          }
        },
        "69db6abaabfb4bd3a1a2b957e82ee09a": {
          "model_module": "@jupyter-widgets/base",
          "model_name": "LayoutModel",
          "state": {
            "_view_name": "LayoutView",
            "grid_template_rows": null,
            "right": null,
            "justify_content": null,
            "_view_module": "@jupyter-widgets/base",
            "overflow": null,
            "_model_module_version": "1.2.0",
            "_view_count": null,
            "flex_flow": null,
            "width": null,
            "min_width": null,
            "border": null,
            "align_items": null,
            "bottom": null,
            "_model_module": "@jupyter-widgets/base",
            "top": null,
            "grid_column": null,
            "overflow_y": null,
            "overflow_x": null,
            "grid_auto_flow": null,
            "grid_area": null,
            "grid_template_columns": null,
            "flex": null,
            "_model_name": "LayoutModel",
            "justify_items": null,
            "grid_row": null,
            "max_height": null,
            "align_content": null,
            "visibility": null,
            "align_self": null,
            "height": null,
            "min_height": null,
            "padding": null,
            "grid_auto_rows": null,
            "grid_gap": null,
            "max_width": null,
            "order": null,
            "_view_module_version": "1.2.0",
            "grid_template_areas": null,
            "object_position": null,
            "object_fit": null,
            "grid_auto_columns": null,
            "margin": null,
            "display": null,
            "left": null
          }
        },
        "aaed440822e040ffb076c4c4abb69ec2": {
          "model_module": "@jupyter-widgets/controls",
          "model_name": "HBoxModel",
          "state": {
            "_view_name": "HBoxView",
            "_dom_classes": [],
            "_model_name": "HBoxModel",
            "_view_module": "@jupyter-widgets/controls",
            "_model_module_version": "1.5.0",
            "_view_count": null,
            "_view_module_version": "1.5.0",
            "box_style": "",
            "layout": "IPY_MODEL_0c7472d1dba14646bf9115cbfd4fb5c9",
            "_model_module": "@jupyter-widgets/controls",
            "children": [
              "IPY_MODEL_b39f5a7b8f3c48c4bea93eda9d073619",
              "IPY_MODEL_8b4c460cfec7445797f302d2cd96459b"
            ]
          }
        },
        "0c7472d1dba14646bf9115cbfd4fb5c9": {
          "model_module": "@jupyter-widgets/base",
          "model_name": "LayoutModel",
          "state": {
            "_view_name": "LayoutView",
            "grid_template_rows": null,
            "right": null,
            "justify_content": null,
            "_view_module": "@jupyter-widgets/base",
            "overflow": null,
            "_model_module_version": "1.2.0",
            "_view_count": null,
            "flex_flow": null,
            "width": null,
            "min_width": null,
            "border": null,
            "align_items": null,
            "bottom": null,
            "_model_module": "@jupyter-widgets/base",
            "top": null,
            "grid_column": null,
            "overflow_y": null,
            "overflow_x": null,
            "grid_auto_flow": null,
            "grid_area": null,
            "grid_template_columns": null,
            "flex": null,
            "_model_name": "LayoutModel",
            "justify_items": null,
            "grid_row": null,
            "max_height": null,
            "align_content": null,
            "visibility": null,
            "align_self": null,
            "height": null,
            "min_height": null,
            "padding": null,
            "grid_auto_rows": null,
            "grid_gap": null,
            "max_width": null,
            "order": null,
            "_view_module_version": "1.2.0",
            "grid_template_areas": null,
            "object_position": null,
            "object_fit": null,
            "grid_auto_columns": null,
            "margin": null,
            "display": null,
            "left": null
          }
        },
        "b39f5a7b8f3c48c4bea93eda9d073619": {
          "model_module": "@jupyter-widgets/controls",
          "model_name": "FloatProgressModel",
          "state": {
            "_view_name": "ProgressView",
            "style": "IPY_MODEL_38011626f2e74d6eb2a3bb07abd58abd",
            "_dom_classes": [],
            "description": "Downloading: 100%",
            "_model_name": "FloatProgressModel",
            "bar_style": "success",
            "max": 316,
            "_view_module": "@jupyter-widgets/controls",
            "_model_module_version": "1.5.0",
            "value": 316,
            "_view_count": null,
            "_view_module_version": "1.5.0",
            "orientation": "horizontal",
            "min": 0,
            "description_tooltip": null,
            "_model_module": "@jupyter-widgets/controls",
            "layout": "IPY_MODEL_dbeaffb308e94928a1a73c6cffd0eaf5"
          }
        },
        "8b4c460cfec7445797f302d2cd96459b": {
          "model_module": "@jupyter-widgets/controls",
          "model_name": "HTMLModel",
          "state": {
            "_view_name": "HTMLView",
            "style": "IPY_MODEL_4621ac5c79fe456b917603ef068cc4ff",
            "_dom_classes": [],
            "description": "",
            "_model_name": "HTMLModel",
            "placeholder": "​",
            "_view_module": "@jupyter-widgets/controls",
            "_model_module_version": "1.5.0",
            "value": " 316/316 [00:00&lt;00:00, 4.97kB/s]",
            "_view_count": null,
            "_view_module_version": "1.5.0",
            "description_tooltip": null,
            "_model_module": "@jupyter-widgets/controls",
            "layout": "IPY_MODEL_55bea37af15f421db869ca7c04769add"
          }
        },
        "38011626f2e74d6eb2a3bb07abd58abd": {
          "model_module": "@jupyter-widgets/controls",
          "model_name": "ProgressStyleModel",
          "state": {
            "_view_name": "StyleView",
            "_model_name": "ProgressStyleModel",
            "description_width": "initial",
            "_view_module": "@jupyter-widgets/base",
            "_model_module_version": "1.5.0",
            "_view_count": null,
            "_view_module_version": "1.2.0",
            "bar_color": null,
            "_model_module": "@jupyter-widgets/controls"
          }
        },
        "dbeaffb308e94928a1a73c6cffd0eaf5": {
          "model_module": "@jupyter-widgets/base",
          "model_name": "LayoutModel",
          "state": {
            "_view_name": "LayoutView",
            "grid_template_rows": null,
            "right": null,
            "justify_content": null,
            "_view_module": "@jupyter-widgets/base",
            "overflow": null,
            "_model_module_version": "1.2.0",
            "_view_count": null,
            "flex_flow": null,
            "width": null,
            "min_width": null,
            "border": null,
            "align_items": null,
            "bottom": null,
            "_model_module": "@jupyter-widgets/base",
            "top": null,
            "grid_column": null,
            "overflow_y": null,
            "overflow_x": null,
            "grid_auto_flow": null,
            "grid_area": null,
            "grid_template_columns": null,
            "flex": null,
            "_model_name": "LayoutModel",
            "justify_items": null,
            "grid_row": null,
            "max_height": null,
            "align_content": null,
            "visibility": null,
            "align_self": null,
            "height": null,
            "min_height": null,
            "padding": null,
            "grid_auto_rows": null,
            "grid_gap": null,
            "max_width": null,
            "order": null,
            "_view_module_version": "1.2.0",
            "grid_template_areas": null,
            "object_position": null,
            "object_fit": null,
            "grid_auto_columns": null,
            "margin": null,
            "display": null,
            "left": null
          }
        },
        "4621ac5c79fe456b917603ef068cc4ff": {
          "model_module": "@jupyter-widgets/controls",
          "model_name": "DescriptionStyleModel",
          "state": {
            "_view_name": "StyleView",
            "_model_name": "DescriptionStyleModel",
            "description_width": "",
            "_view_module": "@jupyter-widgets/base",
            "_model_module_version": "1.5.0",
            "_view_count": null,
            "_view_module_version": "1.2.0",
            "_model_module": "@jupyter-widgets/controls"
          }
        },
        "55bea37af15f421db869ca7c04769add": {
          "model_module": "@jupyter-widgets/base",
          "model_name": "LayoutModel",
          "state": {
            "_view_name": "LayoutView",
            "grid_template_rows": null,
            "right": null,
            "justify_content": null,
            "_view_module": "@jupyter-widgets/base",
            "overflow": null,
            "_model_module_version": "1.2.0",
            "_view_count": null,
            "flex_flow": null,
            "width": null,
            "min_width": null,
            "border": null,
            "align_items": null,
            "bottom": null,
            "_model_module": "@jupyter-widgets/base",
            "top": null,
            "grid_column": null,
            "overflow_y": null,
            "overflow_x": null,
            "grid_auto_flow": null,
            "grid_area": null,
            "grid_template_columns": null,
            "flex": null,
            "_model_name": "LayoutModel",
            "justify_items": null,
            "grid_row": null,
            "max_height": null,
            "align_content": null,
            "visibility": null,
            "align_self": null,
            "height": null,
            "min_height": null,
            "padding": null,
            "grid_auto_rows": null,
            "grid_gap": null,
            "max_width": null,
            "order": null,
            "_view_module_version": "1.2.0",
            "grid_template_areas": null,
            "object_position": null,
            "object_fit": null,
            "grid_auto_columns": null,
            "margin": null,
            "display": null,
            "left": null
          }
        },
        "f6c6e3fde2de431fb0151dc755d809bf": {
          "model_module": "@jupyter-widgets/controls",
          "model_name": "HBoxModel",
          "state": {
            "_view_name": "HBoxView",
            "_dom_classes": [],
            "_model_name": "HBoxModel",
            "_view_module": "@jupyter-widgets/controls",
            "_model_module_version": "1.5.0",
            "_view_count": null,
            "_view_module_version": "1.5.0",
            "box_style": "",
            "layout": "IPY_MODEL_6804e82b9a0e4e2297640b7e3c7fb2cc",
            "_model_module": "@jupyter-widgets/controls",
            "children": [
              "IPY_MODEL_4c591de095c74e1f990682275b1a09ec",
              "IPY_MODEL_3275ec068e294b0a8aa5c96977eba397"
            ]
          }
        },
        "6804e82b9a0e4e2297640b7e3c7fb2cc": {
          "model_module": "@jupyter-widgets/base",
          "model_name": "LayoutModel",
          "state": {
            "_view_name": "LayoutView",
            "grid_template_rows": null,
            "right": null,
            "justify_content": null,
            "_view_module": "@jupyter-widgets/base",
            "overflow": null,
            "_model_module_version": "1.2.0",
            "_view_count": null,
            "flex_flow": null,
            "width": null,
            "min_width": null,
            "border": null,
            "align_items": null,
            "bottom": null,
            "_model_module": "@jupyter-widgets/base",
            "top": null,
            "grid_column": null,
            "overflow_y": null,
            "overflow_x": null,
            "grid_auto_flow": null,
            "grid_area": null,
            "grid_template_columns": null,
            "flex": null,
            "_model_name": "LayoutModel",
            "justify_items": null,
            "grid_row": null,
            "max_height": null,
            "align_content": null,
            "visibility": null,
            "align_self": null,
            "height": null,
            "min_height": null,
            "padding": null,
            "grid_auto_rows": null,
            "grid_gap": null,
            "max_width": null,
            "order": null,
            "_view_module_version": "1.2.0",
            "grid_template_areas": null,
            "object_position": null,
            "object_fit": null,
            "grid_auto_columns": null,
            "margin": null,
            "display": null,
            "left": null
          }
        },
        "4c591de095c74e1f990682275b1a09ec": {
          "model_module": "@jupyter-widgets/controls",
          "model_name": "FloatProgressModel",
          "state": {
            "_view_name": "ProgressView",
            "style": "IPY_MODEL_65fce2d3610b4a42ad664a7fe8b44a82",
            "_dom_classes": [],
            "description": "Batches: 100%",
            "_model_name": "FloatProgressModel",
            "bar_style": "success",
            "max": 274,
            "_view_module": "@jupyter-widgets/controls",
            "_model_module_version": "1.5.0",
            "value": 274,
            "_view_count": null,
            "_view_module_version": "1.5.0",
            "orientation": "horizontal",
            "min": 0,
            "description_tooltip": null,
            "_model_module": "@jupyter-widgets/controls",
            "layout": "IPY_MODEL_a910fe64f587445a9e093033f2078b9c"
          }
        },
        "3275ec068e294b0a8aa5c96977eba397": {
          "model_module": "@jupyter-widgets/controls",
          "model_name": "HTMLModel",
          "state": {
            "_view_name": "HTMLView",
            "style": "IPY_MODEL_0a7c192bdbc64856bf76e59419d4f5ae",
            "_dom_classes": [],
            "description": "",
            "_model_name": "HTMLModel",
            "placeholder": "​",
            "_view_module": "@jupyter-widgets/controls",
            "_model_module_version": "1.5.0",
            "value": " 274/274 [20:19&lt;00:00,  4.45s/it]",
            "_view_count": null,
            "_view_module_version": "1.5.0",
            "description_tooltip": null,
            "_model_module": "@jupyter-widgets/controls",
            "layout": "IPY_MODEL_fb87b429c86745dfaf5571701d50b06a"
          }
        },
        "65fce2d3610b4a42ad664a7fe8b44a82": {
          "model_module": "@jupyter-widgets/controls",
          "model_name": "ProgressStyleModel",
          "state": {
            "_view_name": "StyleView",
            "_model_name": "ProgressStyleModel",
            "description_width": "initial",
            "_view_module": "@jupyter-widgets/base",
            "_model_module_version": "1.5.0",
            "_view_count": null,
            "_view_module_version": "1.2.0",
            "bar_color": null,
            "_model_module": "@jupyter-widgets/controls"
          }
        },
        "a910fe64f587445a9e093033f2078b9c": {
          "model_module": "@jupyter-widgets/base",
          "model_name": "LayoutModel",
          "state": {
            "_view_name": "LayoutView",
            "grid_template_rows": null,
            "right": null,
            "justify_content": null,
            "_view_module": "@jupyter-widgets/base",
            "overflow": null,
            "_model_module_version": "1.2.0",
            "_view_count": null,
            "flex_flow": null,
            "width": null,
            "min_width": null,
            "border": null,
            "align_items": null,
            "bottom": null,
            "_model_module": "@jupyter-widgets/base",
            "top": null,
            "grid_column": null,
            "overflow_y": null,
            "overflow_x": null,
            "grid_auto_flow": null,
            "grid_area": null,
            "grid_template_columns": null,
            "flex": null,
            "_model_name": "LayoutModel",
            "justify_items": null,
            "grid_row": null,
            "max_height": null,
            "align_content": null,
            "visibility": null,
            "align_self": null,
            "height": null,
            "min_height": null,
            "padding": null,
            "grid_auto_rows": null,
            "grid_gap": null,
            "max_width": null,
            "order": null,
            "_view_module_version": "1.2.0",
            "grid_template_areas": null,
            "object_position": null,
            "object_fit": null,
            "grid_auto_columns": null,
            "margin": null,
            "display": null,
            "left": null
          }
        },
        "0a7c192bdbc64856bf76e59419d4f5ae": {
          "model_module": "@jupyter-widgets/controls",
          "model_name": "DescriptionStyleModel",
          "state": {
            "_view_name": "StyleView",
            "_model_name": "DescriptionStyleModel",
            "description_width": "",
            "_view_module": "@jupyter-widgets/base",
            "_model_module_version": "1.5.0",
            "_view_count": null,
            "_view_module_version": "1.2.0",
            "_model_module": "@jupyter-widgets/controls"
          }
        },
        "fb87b429c86745dfaf5571701d50b06a": {
          "model_module": "@jupyter-widgets/base",
          "model_name": "LayoutModel",
          "state": {
            "_view_name": "LayoutView",
            "grid_template_rows": null,
            "right": null,
            "justify_content": null,
            "_view_module": "@jupyter-widgets/base",
            "overflow": null,
            "_model_module_version": "1.2.0",
            "_view_count": null,
            "flex_flow": null,
            "width": null,
            "min_width": null,
            "border": null,
            "align_items": null,
            "bottom": null,
            "_model_module": "@jupyter-widgets/base",
            "top": null,
            "grid_column": null,
            "overflow_y": null,
            "overflow_x": null,
            "grid_auto_flow": null,
            "grid_area": null,
            "grid_template_columns": null,
            "flex": null,
            "_model_name": "LayoutModel",
            "justify_items": null,
            "grid_row": null,
            "max_height": null,
            "align_content": null,
            "visibility": null,
            "align_self": null,
            "height": null,
            "min_height": null,
            "padding": null,
            "grid_auto_rows": null,
            "grid_gap": null,
            "max_width": null,
            "order": null,
            "_view_module_version": "1.2.0",
            "grid_template_areas": null,
            "object_position": null,
            "object_fit": null,
            "grid_auto_columns": null,
            "margin": null,
            "display": null,
            "left": null
          }
        }
      }
    },
    "accelerator": "GPU"
  },
  "cells": [
    {
      "cell_type": "markdown",
      "metadata": {
        "id": "view-in-github",
        "colab_type": "text"
      },
      "source": [
        "<a href=\"https://colab.research.google.com/github/desaibhargav/VR/blob/main/notebooks/Semantic_Search.ipynb\" target=\"_parent\"><img src=\"https://colab.research.google.com/assets/colab-badge.svg\" alt=\"Open In Colab\"/></a>"
      ]
    },
    {
      "cell_type": "markdown",
      "metadata": {
        "id": "ek92HG1ysdFk"
      },
      "source": [
        "## **Dependencies**"
      ]
    },
    {
      "cell_type": "code",
      "metadata": {
        "colab": {
          "base_uri": "https://localhost:8080/"
        },
        "id": "UzEg8nn-si-4",
        "outputId": "1a06a560-859d-45b6-e928-7d8aeffb9637"
      },
      "source": [
        "!pip install -U -q sentence-transformers\n",
        "!git clone https://github.com/desaibhargav/VR.git"
      ],
      "execution_count": null,
      "outputs": [
        {
          "output_type": "stream",
          "text": [
            "\u001b[K     |████████████████████████████████| 71kB 9.4MB/s \n",
            "\u001b[K     |████████████████████████████████| 1.8MB 29.8MB/s \n",
            "\u001b[K     |████████████████████████████████| 1.2MB 56.2MB/s \n",
            "\u001b[K     |████████████████████████████████| 2.9MB 55.3MB/s \n",
            "\u001b[K     |████████████████████████████████| 890kB 50.5MB/s \n",
            "\u001b[?25h  Building wheel for sentence-transformers (setup.py) ... \u001b[?25l\u001b[?25hdone\n",
            "  Building wheel for sacremoses (setup.py) ... \u001b[?25l\u001b[?25hdone\n",
            "Cloning into 'VR'...\n",
            "remote: Enumerating objects: 142, done.\u001b[K\n",
            "remote: Counting objects: 100% (142/142), done.\u001b[K\n",
            "remote: Compressing objects: 100% (109/109), done.\u001b[K\n",
            "remote: Total 142 (delta 66), reused 71 (delta 19), pack-reused 0\u001b[K\n",
            "Receiving objects: 100% (142/142), 4.63 MiB | 8.66 MiB/s, done.\n",
            "Resolving deltas: 100% (66/66), done.\n"
          ],
          "name": "stdout"
        }
      ]
    },
    {
      "cell_type": "markdown",
      "metadata": {
        "id": "2lRWBb72srYX"
      },
      "source": [
        "## **Imports**"
      ]
    },
    {
      "cell_type": "code",
      "metadata": {
        "id": "Gr7rxUjICgw2"
      },
      "source": [
        "import pandas as pd\n",
        "import numpy as np\n",
        "import torch\n",
        "import time\n",
        "\n",
        "from typing import Generator\n",
        "from sentence_transformers import SentenceTransformer, CrossEncoder, util\n",
        "from VR.backend.chunker import Chunker"
      ],
      "execution_count": null,
      "outputs": []
    },
    {
      "cell_type": "markdown",
      "metadata": {
        "id": "5hsGcJQqr7vl"
      },
      "source": [
        "## **Dataset**"
      ]
    },
    {
      "cell_type": "code",
      "metadata": {
        "colab": {
          "base_uri": "https://localhost:8080/"
        },
        "id": "D-VzeDLptJLo",
        "outputId": "e9486b50-ea99-41fb-b6b6-f1f5cae7abcb"
      },
      "source": [
        "# load scrapped data (using youtube_client.py)\n",
        "dataset = pd.read_pickle('VR/datasets/youtube_scrapped.pickle')\n",
        "\n",
        "# split transcripts of videos to smaller blocks or chunks (using chunker.py)\n",
        "chunked = Chunker(chunk_by='length', expected_threshold=100, min_tolerable_threshold=75).get_chunks(dataset)\n",
        "\n",
        "# finally, create dataset\n",
        "dataset_untagged = dataset.join(chunked).drop(columns=['subtitles', 'timestamps'])\n",
        "df = dataset_untagged.copy().dropna()\n",
        "print(f\"Average length of block: {df.length_of_block.mean()}, Standard Deviation: {df.length_of_block.std()}\")"
      ],
      "execution_count": null,
      "outputs": [
        {
          "output_type": "stream",
          "text": [
            "Average length of block: 107.33691183188671, Standard Deviation: 12.755147492715611\n"
          ],
          "name": "stdout"
        }
      ]
    },
    {
      "cell_type": "markdown",
      "metadata": {
        "id": "3W8ri2YnQ3Br"
      },
      "source": [
        "## **Semantic Search**\n",
        "\n",
        "---\n",
        "\n",
        "The idea is to compute embeddings of the query (entered by user) and use cosine similarity to find the `top_k` most similar blocks. \n",
        "\n",
        "Blocks are nothing but the entire video transcript (big string) split into fixed length strings (small strings, ~100 words). \n",
        "\n",
        "---\n",
        "\n",
        "The reason for such a design choice was threefold, handled by `chunker.py` (refer the repo):\n",
        "\n",
        "1. First and foremost, some videoes can be very long (over ~40 minutes) which means the transcript for the same is a **massive** string, and we need to avoid hitting the processing length limits of pre-trained models. \n",
        "\n",
        "2. Secondly, and more importantly, it is always good to maintain the inputs at a length on which the models being used were trained (to stay as close as poossible to the training set for optimum results).\n",
        "\n",
        "3. But perhaps, most importantly, the purpose for splitting transcripts to blocks is so that the recommendations can be targeted to a snippet within a video. The vision is to recommend many snippets from various videoes highly relevant to the query, rather than entire videoes themselves in which matching snippets have been found (which may sometimes be long and the content may not always be related to the query).\n",
        "\n",
        "---"
      ]
    },
    {
      "cell_type": "code",
      "metadata": {
        "id": "sMBgsWBsHKOm"
      },
      "source": [
        "# request to enable GPU \n",
        "if not torch.cuda.is_available():\n",
        "  print(\"Warning: No GPU found. Please add GPU to your notebook\")"
      ],
      "execution_count": null,
      "outputs": []
    },
    {
      "cell_type": "code",
      "metadata": {
        "id": "Y0hWIUytKxu-",
        "colab": {
          "base_uri": "https://localhost:8080/",
          "height": 279,
          "referenced_widgets": [
            "a58f6214ba5c4eeab554a61d83dc38e6",
            "c81c032792a744198b4917df28d7dc5a",
            "be9e24ab1feb4adf96eda5e2caf37cac",
            "b78e514f28da41eda2407663daeade6b",
            "e20860ad652541b9877da3fadc6f5f50",
            "dbbaa7fc987949a28490d39bc7d08f75",
            "33df6bb4cbf148ee81029e4a9206088c",
            "11768c8c15744c21869a58d38835d1fc",
            "1016c40c78d74b4fac41448d0a336602",
            "9e1ec1fd089b40b4b704f00fbaf13287",
            "735321f414964587be5507f7c13a9014",
            "cd8e2e7ca59b422199fc2d30517333bf",
            "ef3cda2dacf849ceba99a450b39dd5e6",
            "9be3f9fd7b8343c4974442203f3bc26b",
            "4dd1a6acd1d54fb38c4949a8a8bd9c04",
            "410aac7642a74bf5a98059c692109516",
            "b3aac6acc492415689a57ceebb700a18",
            "7be2cacf0379444186d9020c85294394",
            "bf6f8784b5074b21beedbbdbe4db9226",
            "32ca4a653ad948658b9bd189eba994da",
            "c01acb28243a4e4e808234351a5cbc33",
            "8f79a7b0f9d849859c30bf2af8e18624",
            "a0eec42233e342a488f1c4b1d7f23f7d",
            "c42f42d156c6454ba4bd8dab3c7374e4",
            "fab7d066683348a1a47b9ce5fb46c10b",
            "15dd7b898a634c379435b85bc803f3c6",
            "240c975054f74af0bd20e9236cfba2a8",
            "19d93e0ee68a4fd79f89528b43cfbea4",
            "b6fe02d59c6a43b9b7398703382e177d",
            "d8d25349d42e4f009bc8b126fa8b62d6",
            "0ce9de9d64c543f2a0fe77384ec7d8e4",
            "69db6abaabfb4bd3a1a2b957e82ee09a",
            "aaed440822e040ffb076c4c4abb69ec2",
            "0c7472d1dba14646bf9115cbfd4fb5c9",
            "b39f5a7b8f3c48c4bea93eda9d073619",
            "8b4c460cfec7445797f302d2cd96459b",
            "38011626f2e74d6eb2a3bb07abd58abd",
            "dbeaffb308e94928a1a73c6cffd0eaf5",
            "4621ac5c79fe456b917603ef068cc4ff",
            "55bea37af15f421db869ca7c04769add"
          ]
        },
        "outputId": "4403fa43-2ac9-4deb-84a7-a98a06b314aa"
      },
      "source": [
        "# load model (to encode the dataset)\n",
        "bi_encoder = SentenceTransformer('paraphrase-distilroberta-base-v1')\n",
        "\n",
        "# number of blocks we want to retrieve with the bi-encoder\n",
        "top_k = 200     \n",
        "\n",
        "# the bi-encoder will retrieve 50 blocks (top_k). \n",
        "# we use a cross-encoder, to re-rank the results list to improve the quality.\n",
        "cross_encoder = CrossEncoder('cross-encoder/ms-marco-electra-base')"
      ],
      "execution_count": null,
      "outputs": [
        {
          "output_type": "stream",
          "text": [
            "100%|██████████| 306M/306M [00:11<00:00, 25.7MB/s]\n"
          ],
          "name": "stderr"
        },
        {
          "output_type": "display_data",
          "data": {
            "application/vnd.jupyter.widget-view+json": {
              "model_id": "a58f6214ba5c4eeab554a61d83dc38e6",
              "version_minor": 0,
              "version_major": 2
            },
            "text/plain": [
              "HBox(children=(FloatProgress(value=0.0, description='Downloading', max=730.0, style=ProgressStyle(description_…"
            ]
          },
          "metadata": {
            "tags": []
          }
        },
        {
          "output_type": "stream",
          "text": [
            "\n"
          ],
          "name": "stdout"
        },
        {
          "output_type": "display_data",
          "data": {
            "application/vnd.jupyter.widget-view+json": {
              "model_id": "1016c40c78d74b4fac41448d0a336602",
              "version_minor": 0,
              "version_major": 2
            },
            "text/plain": [
              "HBox(children=(FloatProgress(value=0.0, description='Downloading', max=438022601.0, style=ProgressStyle(descri…"
            ]
          },
          "metadata": {
            "tags": []
          }
        },
        {
          "output_type": "stream",
          "text": [
            "\n"
          ],
          "name": "stdout"
        },
        {
          "output_type": "display_data",
          "data": {
            "application/vnd.jupyter.widget-view+json": {
              "model_id": "b3aac6acc492415689a57ceebb700a18",
              "version_minor": 0,
              "version_major": 2
            },
            "text/plain": [
              "HBox(children=(FloatProgress(value=0.0, description='Downloading', max=231508.0, style=ProgressStyle(descripti…"
            ]
          },
          "metadata": {
            "tags": []
          }
        },
        {
          "output_type": "stream",
          "text": [
            "\n"
          ],
          "name": "stdout"
        },
        {
          "output_type": "display_data",
          "data": {
            "application/vnd.jupyter.widget-view+json": {
              "model_id": "fab7d066683348a1a47b9ce5fb46c10b",
              "version_minor": 0,
              "version_major": 2
            },
            "text/plain": [
              "HBox(children=(FloatProgress(value=0.0, description='Downloading', max=112.0, style=ProgressStyle(description_…"
            ]
          },
          "metadata": {
            "tags": []
          }
        },
        {
          "output_type": "stream",
          "text": [
            "\n"
          ],
          "name": "stdout"
        },
        {
          "output_type": "display_data",
          "data": {
            "application/vnd.jupyter.widget-view+json": {
              "model_id": "aaed440822e040ffb076c4c4abb69ec2",
              "version_minor": 0,
              "version_major": 2
            },
            "text/plain": [
              "HBox(children=(FloatProgress(value=0.0, description='Downloading', max=316.0, style=ProgressStyle(description_…"
            ]
          },
          "metadata": {
            "tags": []
          }
        },
        {
          "output_type": "stream",
          "text": [
            "\n"
          ],
          "name": "stdout"
        }
      ]
    },
    {
      "cell_type": "code",
      "metadata": {
        "colab": {
          "base_uri": "https://localhost:8080/",
          "height": 120,
          "referenced_widgets": [
            "f6c6e3fde2de431fb0151dc755d809bf",
            "6804e82b9a0e4e2297640b7e3c7fb2cc",
            "4c591de095c74e1f990682275b1a09ec",
            "3275ec068e294b0a8aa5c96977eba397",
            "65fce2d3610b4a42ad664a7fe8b44a82",
            "a910fe64f587445a9e093033f2078b9c",
            "0a7c192bdbc64856bf76e59419d4f5ae",
            "fb87b429c86745dfaf5571701d50b06a"
          ]
        },
        "id": "EkSLo3uWLD_M",
        "outputId": "62ca3cd9-c32a-4bd7-9e96-2943e4eb9aab"
      },
      "source": [
        "# encode dataset\n",
        "corpus_embeddings = bi_encoder.encode(df.block.to_list(), convert_to_tensor=True, show_progress_bar=True)\n",
        "\n",
        "# send corpus embeddings to GPU\n",
        "corpus_embeddings = torch.tensor(corpus_embeddings).cuda()"
      ],
      "execution_count": null,
      "outputs": [
        {
          "output_type": "display_data",
          "data": {
            "application/vnd.jupyter.widget-view+json": {
              "model_id": "f6c6e3fde2de431fb0151dc755d809bf",
              "version_minor": 0,
              "version_major": 2
            },
            "text/plain": [
              "HBox(children=(FloatProgress(value=0.0, description='Batches', max=274.0, style=ProgressStyle(description_widt…"
            ]
          },
          "metadata": {
            "tags": []
          }
        },
        {
          "output_type": "stream",
          "text": [
            "\n"
          ],
          "name": "stdout"
        },
        {
          "output_type": "stream",
          "text": [
            "/usr/local/lib/python3.6/dist-packages/ipykernel_launcher.py:5: UserWarning: To copy construct from a tensor, it is recommended to use sourceTensor.clone().detach() or sourceTensor.clone().detach().requires_grad_(True), rather than torch.tensor(sourceTensor).\n",
            "  \"\"\"\n"
          ],
          "name": "stderr"
        }
      ]
    },
    {
      "cell_type": "code",
      "metadata": {
        "id": "NAVcBDavLJMA"
      },
      "source": [
        "# this function will search the dataset for passages that answer the query\n",
        "def search(query):\n",
        "  start_time = time.time()\n",
        "\n",
        "  # encode the query using the bi-encoder and find potentially relevant passages\n",
        "  question_embedding = bi_encoder.encode(query, convert_to_tensor=True)\n",
        "\n",
        "  # send query embeddings to GPU\n",
        "  question_embedding = question_embedding.cuda()\n",
        "\n",
        "  # perform sematic search by computing cosine similarity between corpus and query embeddings\n",
        "  # return top_k highest similarity matches\n",
        "  hits = util.semantic_search(question_embedding, corpus_embeddings, top_k=top_k)[0]\n",
        "\n",
        "  # now, score all retrieved passages with the cross_encoder\n",
        "  cross_inp = [[query, df.block.to_list()[hit['corpus_id']]] for hit in hits]\n",
        "  cross_scores = cross_encoder.predict(cross_inp)\n",
        "\n",
        "  # sort results by the cross-encoder scores\n",
        "  for idx in range(len(cross_scores)):\n",
        "      hits[idx]['cross-score'] = cross_scores[idx]\n",
        "  hits = sorted(hits, key=lambda x: x['cross-score'], reverse=True)\n",
        "  end_time = time.time()\n",
        "\n",
        "  # print output of top-5 hits (for iteractive environments only)\n",
        "  print(f\"Input query: {query}\")\n",
        "  print(f\"Results (after {round(end_time - start_time, 2)} seconds):\")\n",
        "  for hit in hits[0:10]:\n",
        "    print(\"\\t{:.3f}\\t{}\".format(hit['cross-score'], df.block.to_list()[hit['corpus_id']].replace(\"\\n\", \" \")))"
      ],
      "execution_count": null,
      "outputs": []
    },
    {
      "cell_type": "markdown",
      "metadata": {
        "id": "vmNNvmsa8Pzm"
      },
      "source": [
        "## **Try some queries!**"
      ]
    },
    {
      "cell_type": "code",
      "metadata": {
        "colab": {
          "base_uri": "https://localhost:8080/"
        },
        "id": "GU9lDo4976gD",
        "outputId": "067851ee-a5a3-4ea3-9335-9bc62aa23d3f"
      },
      "source": [
        "query = \"I feel lost in life. I feel like there is no purpose of living. How should I deal with this?\"\n",
        "search(query)"
      ],
      "execution_count": null,
      "outputs": [
        {
          "output_type": "stream",
          "text": [
            "Input query: I feel lost in life. I feel like there is no purpose of living. How should I deal with this?\n",
            "Results (after 4.19 seconds):\n",
            "\t0.959\tIt is the pettiness of one’s mind that it’ll seek a meaning because psychologically you will feel kind of unconnected with life if you don’t have a purpose and a meaning. People are constantly trying to create these false purposes. Now, they were quite fine and happy. Suddenly, they got married. Now the purpose is the other person. Then they have children. Now they become miserable with each other. Now the whole purpose that I go through all this misery is because the children. Like this, it goes on. These are things that you’re causing and holding these as purposes of life and is there a God-given purpose? What if God does not know you exist? No, I am just asking, by chance. (Laughter) I am saying in this huge cosmos, for which God is supposed to be the Creator and the manager of these hundred billion galaxies, in that this tiny little planet\n",
            "\t0.949\tAt least I could not figure till I was twenty-five, why the hell I have to go through education, so (Laughs) I didn’t go through much education because what is the purpose? Well somebody has a purpose for you. The purpose of life is that this life should find full expression. The purpose of life is not that this life should serve this or that. Every creature on the planet is always trying to become a full-fledged life. That is the aspiration of the human being also. But now we have made that thing of longing to become full-fledged life to find expression only in economic ways. The only way, you can be something in the world is, you have to be economically… you must be success in the economic field. This type of education will smother human genius. Nothing new or truly wonderful will happen. We are only thinking of how to use everything.\n",
            "\t0.946\tif you know this one thing all the time, you will see you got your GPS on. There is really no problem, you will never get lost. It doesn’t matter who says what, what kind of situations you are put into, you are never ever lost because you are life sensitive. This is all this life needs that this has to become life sensitive Right now we have developed a psychological structure which has got nothing to do with life. It’s got something to do with the social scene, got nothing to do with the life. Thank you very much (Applause). I think Are we okay? Because people were looking at their watches so I thought I have exceeded my time. Moderator: That was the last question we were taking. If you have any other questions you can put it up on social media. Sadhguru, we would like to thank you so much…  Sadhguru: Don’t, don’t, don’t (Laughs).\n",
            "\t0.930\tIf every moment of your life  becomes absolutely exuberant If every moment of your life  becomes absolutely exuberant and bursting within you, ‘Why?’ would be a ridiculous  question, isn't it? So this, we can... we can put some enthusiasm into your life saying, ‘God is testing you’ or ‘God is kissing you… hmm? So they will tell you many things. I am telling you, there is  no purpose to your life. If you do not realize the  exuberance of your existence, you can invent purposes. If you realize  the exuberance of this existence, if you experience the  ecstasy of being here then who the hell is bothered  about the purpose?\n",
            "\t0.928\tSo I wondered if the purpose of life is to just live and to live it fully according to my whim and fancy because this is one thing I know I have with me. So, my question is, is the purpose…was I right in thinking that the purpose in life is just to live it fully? Sadhguru: One hundred percent! Live it fully! But living it fully does not mean party every evening. Living it fully means before you fall dead, you must explore all dimensions of life. Nothing that’s possible for a human being should go un-experienced. If you are talking about living fully in that sense, you are on the dot! But later on you added, “according to my whim and fancy”, that’s a problem. Because your whims are not yours, they are social fads. Either you are doing what everybody is doing, or in reaction, you are doing what nobody is doing.\n",
            "\t0.926\tQuestioner: What’s… what’s for me the purpose of life, if you can give an insight on that? Thank you. Sadhguru: Isn't it fantastic that if there is no purpose, you have nothing to fulfill, you can just live? Hmm? No, but you want a purpose and not a simple purpose, you want a God-given purpose. (Laughter) It's very dangerous. People who think they have a God-given purpose are doing the cruelest things on the planet. Yes or no? They are doing the most horrible things and they’ve always been doing the most horrible things because when you have a God-given purpose, life here becomes less important than your purpose. No, life is important. Life is important - when I say life, I am not talking about your family, your work, what you do, what you do not do, you party I am not talking about that as life. This is life, isn't it?\n",
            "\t0.915\tHow should we deal with that discontent and loneliness? Sadhguru: On one level, many questions are aimed towards, how can I be free from this and that? Another level, you are asking, how can I bind myself to something or somebody? You must decide, what is the highest value in your life - freedom or bondage? Please, I would like to hear that word. Participant: Freedom! Sadhguru: Oh, freedom, hmm! But if you are free, you feel lost. If you go into the mountains and you are totally free, that is, nobody around, nothing around, you’re just in the empty space of the mountains, you don’t feel free, you think you are lost. So to handle freedom, it needs a certain clarity and strength. Most people cannot handle freedom. They are always trying to bind themselves, but only talking freedom all the time. If you really set them free, they will suffer immensely.\n",
            "\t0.913\tintense and beautiful is your experience of life. So don’t make too much fuss about it. You’re acting as if you’re going to lose something. No. There is nothing to lose, nothing to gain because you come and you go. You may think, “Oh my life, my life!” No, it’s… your life on this planet is like a pop-up – on the computer screen you have seen these pop-ups? You are just a pop-up and pop-out. In the meantime, will you rise and shine is the only question, all right? So, if… any way you shine, sometimes you may be seen by people, sometimes you may not be seen by people, the important is you… you are shining within yourself and that’s all that matters. If people have eyes, they will see it; if they have no eyes, they won’t see it, that’s their problem. But, you are living an intense and profound life, that’s\n",
            "\t0.882\ttrudging through life everyday eating, sleeping, same rubbish. What is the point? There is no point, unless you’re touched by something, some magic of life if it doesn’t touch you either in the form of love or in the form of a flower or in the form of something within you. If something doesn’t sparkle within you definitely there is a question whether I should live or not, isn’t it? And we are taking humanity in that direction with this overload of information. Information is not knowing, information is just garbage collection. You just gather things which don’t mean anything to you. You look smart in a tea party but you’re not smart with life, okay. If you’re smart with life you must be blissful, isn’t it (Laughs)? If you’re really smart with life you must be joyful and blissful. Isn’t it so? You’re only smart in a tea party\n",
            "\t0.842\twhen I say oblivious to life, I want you to look at this right now you cannot even call yourself as a living being, because most of the time what is happening with you is just thought and emotion. Thought and emotion is just psychological drama, it has no existential relevance. Here a thousand people can sit here and live in thousand different worlds right now, that means nobody is in reality. Nobody is living, everybody is thinking about life. Psychological space, what happens, has unfortunately overtaken the existential process of life. You do not experience life, you’re only thinking and reacting to situations around you. Thought and emotion is dominating everything. So, right now today morning sun came up on time you don’t think much about that “Okay so what?” (Laughter) No, you need to understand, if sun does not come up tomorrow morning, within eighteen hours all life on this planet will largely seize as we know it.\n"
          ],
          "name": "stdout"
        }
      ]
    },
    {
      "cell_type": "code",
      "metadata": {
        "colab": {
          "base_uri": "https://localhost:8080/"
        },
        "id": "yklTnzmz0fe-",
        "outputId": "dd674ca7-9019-4dc9-b09f-7f83bd110678"
      },
      "source": [
        "query = \"I just recently became a parent and I am feeling very nervous. What is the best way to bring up a child?\"\n",
        "search(query)"
      ],
      "execution_count": null,
      "outputs": [
        {
          "output_type": "stream",
          "text": [
            "Input query: I just recently became a parent and I am feeling very nervous. What is the best way to bring up a child?\n",
            "Results (after 2.34 seconds):\n",
            "\t0.561\tSadhguru, what should be the role of a good parent in today's world? See, parenthood is a very funny thing You're trying to do something that nobody has ever known how to do it well Yes? Nobody has ever known what is the best way to parent their children Even if you have 12 children, you are still learning You may raise eleven properly the twelfth one can give you works, you know? So.. But you want to do your best what is the best thing you can do? One foremost thing I would say is First thing is to work upon yourself a little bit.\n",
            "\t0.052\tit doesn’t matter what their problem is. If you leave that level of openness and friendship with them, if they come to you first, there is every possibility that they won’t get lost on something, isn't it? Especially in a society like this, where the moment the child steps out, you don’t know what influences are going to catch him up. The most important thing is this: the parents should get off their pedestal and start treating them as equals and this has to happen right from childhood, you know; that he never sees you as somebody who is pushing him around\n",
            "\t0.031\tSimply it’ll come in the form of life or maybe it’ll come in the form of your children - the price. Yes, it’ll be very unfortunate to see that. I am saying this - a very cruel thing to say to any parent, but I am saying this because it’s a very cruel thing to parent a child. The child doesn’t need that, but please see in so many ways, you’re doing everything possible to see that he remains dependent on you in some way or the other. You are not thinking of liberating him. So, the moment you start working,\n",
            "\t0.028\tThey’re observing what you do and how you are, isn’t it? So, if you want to raise children, please raise yourself - don’t worry about the children don’t worry about the children just raise yourself into a wonderful human being, make yourself that, it will reflect. It cannot go wrong, but there’s no guarantee. (Laughter) Like in… everything in life, there’s no guarantee because there may be some other stronger influence on the street side, isn’t it? (Laughs)\n",
            "\t0.027\tIf you bring up a child free of prejudice in a loving,very open atmosphere, generally, they do well, but there is no guarantee Because there are other influences in the society You don't know into whose hands they'll fall  tomorrow morning You don't know into whose hands they'll fall  tomorrow morning Yes? You may be doing your best Tomorrow morning into whose hands your child will fall, there is no insurance or guarantee That's a risk that you're taking always But the only thing is - did you do your best or not? That's all there is to life\n",
            "\t0.023\twhat would be the best kind of parents to have ? If you look back,  you would know very clearly. If you are a parent, the important thing is,  please don’t stand on a big pedestal. The only qualification you have is you just came here a few years early. That’s the only mistake you’ve done. Yes. When you say,  “I wish I was young,” what it means is, “I made  the mistake of coming too early.” So this is the only qualification adults have, that they came here a few years  earlier than the younger people. This doesn’t qualify you to advice about everything in the universe. It doesn’t.\n",
            "\t0.023\tNo, you don’t need information about your child.  You need involvement. With involvement you’ll bring that life to its best. It need not be as good as somebody else or as bad as somebody else because it’s a unique life. Is there one life like another?  Participants: No. Sadhguru: It’s a unique life. So, but from… right from day one we are comparing it to another life and trying to make it like that one. This is a very cruel process for  the child. A child never understands what the hell the parents want (Laughter). I never understood. Nobody ever explained to me why the hell I should go to the school.\n",
            "\t0.021\tgenerally they grow up. Of course you want to provide opportunities for them. Each one of us can provide opportunities only to the extent it's available to us, isn't it? Yes? You cannot provide an opportunity for which  you don't have access You will always do according to your limitations I am sure in that area you will do your best, but the important thing is what kind of human beings or brats you raise? For that, what kind of human being are you is an extremely  important part of raising children So if your wife became pregnant, it's time for transformation for you\n",
            "\t0.019\tSo always having a son was most important. He will be around; If you die, he will do the necessary things so that your liberation will happen. So in pursuit of liberation unknowingly they bore you. Now it's time you remind them. This is an important duty for a child. As your parents are aging, and if they don’t have the sense to come to their senses, you must bring sense to them. You must remind them like I just now reminded you, you’re one year closer to the grave – your parents are much closer than you, isn't it?\n",
            "\t0.018\tWe have to equip the child to live in the modern world and still not mess him up with the nonsense that's happening in the name of modernity. So it is a much bigger challenge today than what it was then. And at that time, once the parents gave the children to the guru, they left him there, in complete his authority. Now the parents are very nosey, you know (Laughter)? They won't leave the children full. They want to… constantly meddle with that, they want to put their own stuff into it. All those issues are there, so it’s much more complex today than it was in the gurukul.\n"
          ],
          "name": "stdout"
        }
      ]
    },
    {
      "cell_type": "code",
      "metadata": {
        "colab": {
          "base_uri": "https://localhost:8080/"
        },
        "id": "xb_5tlbnTDS1",
        "outputId": "ea8d7ba7-cdb8-4713-ab69-72c1b14a8f41"
      },
      "source": [
        "query = \"I had a divorce. I feel like a failure. How should I handle this heartbreak?\"\n",
        "search(query)"
      ],
      "execution_count": null,
      "outputs": [
        {
          "output_type": "stream",
          "text": [
            "Input query: I had a divorce. I feel like a failure. How should I handle this heartbreak?\n",
            "Results (after 2.41 seconds):\n",
            "\t0.323\tBut for some reason, you have come to that situation where this is this has to happen - you need to understand this, that divorce essentially means you have chosen to kill something, which is a part of you, because what you call as myself is just a certain volume of memory. Now, to how to conduct this gracefully? Most people think the best way to conduct a divorce is immediately jump into another relationship and another relationship of the same kind. No, you will cause much more struggle and turmoil within the system by doing that. It’s extremely important\n",
            "\t0.109\tripping it apart is almost like tearing yourself apart. Even though you might have begun to almost come to a place, where you can’t stand the person anymore, still it hurts, simply because you’re trying to rip out a memory, which is you, because you are a bundle of memory. If one does the necessary spiritual sadhana, if one does sufficient inner work to establish these energies, which is yourself You’re only divorcing your spouse, you need not divorce yourself. But you need to understand this, you have already divorced yourself. You’re quite divorced from your own self. Your existence has been nurtured\n",
            "\t0.059\tBut at the same time, the very fact that you’re going through your divorce means you want to be finished with that memory in some way. Maybe not erase that memory but someone who was a spouse, someone who was a in many ways a part of your life, slowly, for whatever reason, you have begun to experience them as a baggage that you’re unwilling to carry. So, you want to keep the baggage aside but you find the baggage is not something that you voluntarily carry, it is something that compulsively sticks to you. So when whatever sticks to you compulsively,\n",
            "\t0.024\tnothing wrong with it. That's wonderful too. You got divorced, is it wrong? No, that's also wonderful. It is just that you make misery out of everything that's what is wrong. You just address that one issue everything will be settled. That's what we are looking at. How not to make misery out of everything? If this one thing is settled everything is settled, isn't it? Yes? If you know how to walk through this world joyfully through marriage and divorce and celibacy and everything, if you know how to walk through this joyfully, what is the problem? Whatever you do is beautiful, isn't it? (Laughs) That comes\n",
            "\t0.004\tSo don’t go that way. This is an opportunity somebody is opening up a spiritual dimension for you really, somebody is making you realize how fragile all these things are; they can cheat you, they can run away, they can divorce you or they can fall dead, isn’t it? If they fall dead you wouldn’t think he cheated me, would you think? No but whichever way you’re denied, isn’t it? The important thing is you’re denied something. How he did it, is not the problem, he denied you something either by death or divorce or cheating or whatever you call it\n",
            "\t0.004\tif she reaches a point where she’s ready to overcome it, but she feels guilty to let it go because it has troubled her for a very, very long time, and not just her, the ones around her as well. So, is it right to let it go at that point or like… how does one deal with a situation like this? Sadhguru: See, I think this struggle is coming from a misunderstanding that something either unpleasant or terrible that one may encounter in one’s life – it can just happen to anybody in so many different ways - if it happens, people think they must forget it,\n",
            "\t0.003\twhether you like it or you don’t like it. Otherwise you shouldn’t get into those projects, you don’t walk into a project, drop it half way and walk away, isn’t it? Juhi Chawla: Yes. It’s your choice but at least choose consciously. You don’t have to get married because everybody is getting married, you don’t have to talk about marriage and divorce in same breath as if they come together (Laughter). This is a completely an American idea, you’re thinking of marriage and divorce together nobody thought of divorce in this country till recently, isn’t it? Juhi Chawla: Yes. Sadhguru: So, if it happens, Sadhguru: So, if it happens, if something happens something truly went wrong between two people and they have to separate that will any way inevitably happen. You don’t have to plan it at the time of wedding (Laughter). why should you ever talk about marriage and divorce in one breath? It's a crime\n",
            "\t0.003\tyou must understand, it’s a minimum twenty year project whether you like it or you don’t like it. Otherwise you shouldn’t get into those projects, you don’t walk into a project, drop it half way and walk away, isn’t it? They have their benefits and they have their problems. It’s your choice but at least choose consciously. You don’t have to get married because everybody is getting married, you don’t have to talk about marriage and divorce in same breath as if they come together (Laughter). This is a completely an American idea, you’re thinking of marriage and divorce together\n",
            "\t0.002\tnobody thought of divorce in this country till recently, isn’t it? Why should you ever talk about marriage and divorce in one breath? It’s… it’s a crime. It’s really a crime to think on those lines. But if it so happens something truly went wrong between two people and they have to separate that will any way inevitably happen. You don’t have to plan it at the time of wedding (Laughter). Questioner: Namaskaram Sadhguru. NamaskaramJuhi Mam. you mentioned about survival and you talked about aesthetics of life. I would like I would request you to elaborate on aesthetics of life\n",
            "\t0.002\tabout four-and-a-half hours had passed. For the first time in my adult life, tears – me and tears were impossible – tears are flowing to a point my shirt is all wet. I’ve always been peaceful and happy, life is working out the way I want, I’m young and successful and no problems. It is just that every cell in my body was bursting with ecstasy. Tears are just dripping like this. So when I shook my skeptical head and asked what’s happening to me, the only thing that my mind could tell me was, maybe I’m going off my rocker.\n"
          ],
          "name": "stdout"
        }
      ]
    },
    {
      "cell_type": "code",
      "metadata": {
        "colab": {
          "base_uri": "https://localhost:8080/"
        },
        "id": "RzlNiKNAD_0q",
        "outputId": "078b9cb0-dea7-4393-8a02-90e9b849050b"
      },
      "source": [
        "query = \"How to be confident while making big decisions in life?\"\n",
        "search(query)"
      ],
      "execution_count": null,
      "outputs": [
        {
          "output_type": "stream",
          "text": [
            "Input query: How to be confident while making big decisions in life?\n",
            "Results (after 2.63 seconds):\n",
            "\t0.984\tsomebody says “I am doing this.” somebody says “I am doing this.” So one thing that all of you should do before you make big decisions in your life is, withdraw from these pressures of peers, professors, parents, everybody. Just spend three days to one week by yourself. Look at it, what is it that you really want to do? Not under pressure from other people. What does this life want to do? Do that! It doesn't matter what other people think about it  (Applause)\n",
            "\t0.692\t“I do not know,” the longing to know, the seeking to know and the possibility of knowing becomes a living reality. Whatever you don’t know, you believe. If you believe whatever you do not know, you will become confident without clarity.  Confidence without clarity is a disastrous process. Where there is no clarity, it is better there is hesitation. If clarity comes, let’s do everything. If there is no clarity, we should at least hesitate. If you have confidence without clarity, it becomes disastrous. This is what belief systems are giving people.  People believe something, suddenly they are confident. It doesn’t matter how much disaster it causes to themselves or to everybody around them\n",
            "\t0.154\tYou know how a banker is with you (Laughter). So, this is a confidence building process. But confidence without clarity is a disastrous process. What you need is clarity. Confidence means you can’t see but you’re confident. This is a dangerous way to go. This is what… This is a continuous disaster. See, it doesn’t take thousands of years to figure out simple aspects of life. I’m saying… Now Suhel is going at these things – anger, hatred, all kinds of prejudice against each other – with great vehemence about it. What I’m saying is, these are simple things in a human being.\n",
            "\t0.114\tThumbnail: Head or Heart,  which one to listen to? Moderator (Abhijeet): Namaskaram, Sadhguruji. The first question that I want to ask is  actually related to me. I’m the... I’m in the last year of engineering, so now there is a very big decision that I have to make now and people have told me that if I take decisions from my heart I'll be successful in life. So… but there lies a problem. The problem is that I am… I don't know which... which thought is coming from my heart and which thought is coming from my brain. So how can I figure out like\n",
            "\t0.110\tgoing on, how do I be positive? And at that time, clarity seems more important than positivity. So how do we place the two? Sadhguru: So what they're calling it as positive is confidence. “Have confidence. Don't worry.” Confidence without clarity is a disaster (Laughter). Yes. If you cannot see clearly, at least you must be hesitant. If you are confident, you're going to walk into something. By chance you may escape sometimes. But what comes your way you don't know. So it's not about being positive, negative. The important thing is, at this stage in your life you just focus\n",
            "\t0.057\ta natural upsurge of energy will happen it activates the lumbar region of the spine in a tremendous way strengthens the muscles along the spine the sharpness of your intellect you will see you can see a difference happening just because you're doing a simple few things ultimately whatever whatever you wish to do in your life how much clarity do you have is all there is isn't it about anything yes or no if you don't have clarity you will try to make it up with confidence confidence is a very poor substitute for clarity it's like there's a busy highway\n",
            "\t0.048\tNo, we must tell them we don't know, you don't know, maybe we can push our knowing one step forward in this generation. It'll be fantastic.  Hmm? One step forward from where we are.  But faith means you just believe. Everything you do not know you believe. What belief does to you is, it gives you  confidence without clarity. This’s a disaster. Confidence without clarity is a disastrous process. Because if your vision is not clear, at least you must be hesitant, isn't it? You cannot see and you're confident,  we know where you're going. Yes or no?  You're very serious lot.  Can I tell you a joke at least (Laughter)?\n",
            "\t0.038\tSadhguru: As you said, to anchor our lives. Now that is... that is the decision that every human being has to make. Do you want to be anchored or do you want to set sail? That is a decision that everybody has to make. If you’re looking for confidence, if you’re looking for stability, then you have to anchor yourself to something. If you’re looking to go far, then anchoring will not help. Traditions, all traditions – with all due respect to all of them – particularly traditions that are coming from India and also elsewhere - I’m... I’m not in any way an expert on… to make a comment on the traditions\n",
            "\t0.031\tThe moment you form an opinion, that means you’re not open to anything else, isn’t it? Whether it’s about a person or yourself or about the life around you, you don’t form any kind of opinion or conclusion. Conclusion means death. Yes? Life means no conclusion - you’re looking. Instead of sharpening your vision, you’re drawing a conclusion because conclusion brings a certain certainty, it brings a certain confidence. The moment you believe something, you are confident. Confidence without clarity is a disaster. It’s better to see clearly rather than just believe something. If you believe something, it gives you confidence and sometimes it works unfortunately.\n",
            "\t0.024\tBut to exercise this choice, you have to be in a certain way within yourself. Within yourself, you are in a certain state of equanimity, balance and exuberance, that no matter what life throws at you, you will make it into a wonderful possibility. Life can throw all kinds of horrible things. Don’t underestimate life, it can do things to you, tch yes? It can… It can do all kinds of things to you. Most unexpected time, it will throw something at you that you did not imagine possible. The more active you are, more unexpected things happen to you (Laughs). Yes.\n"
          ],
          "name": "stdout"
        }
      ]
    },
    {
      "cell_type": "markdown",
      "metadata": {
        "id": "uC0OtUuWJaL4"
      },
      "source": [
        "## **Semantic Search x Auxiliary Features**\n",
        "\n",
        "This section is under active development. \n",
        "\n",
        "---\n",
        "\n",
        "This purpose of this section is to explore two primary frontiers:\n",
        "\n",
        "1. Just semantic search yields satisfactory results, but comes at the cost of compute power. The bottleneck for compute power is the cross-encoder step. This section explores how to reduce the search area, so that semantic search (by the cross-encoder) is performed over a small number blocks, significantly cutting down on the recommendation time. \n",
        "\n",
        "2. Other than the content itself, several other features such as video statistics (views, likes, dislikes), video titles, video descriptions, video tags present in the dataset can be leveraged to improve the recommendations. \n",
        "\n",
        "---\n",
        "\n"
      ]
    },
    {
      "cell_type": "code",
      "metadata": {
        "id": "k0ol7MV3MCZ1"
      },
      "source": [
        ""
      ],
      "execution_count": null,
      "outputs": []
    }
  ]
}